{
  "nbformat": 4,
  "nbformat_minor": 0,
  "metadata": {
    "colab": {
      "provenance": [],
      "authorship_tag": "ABX9TyMHkRmVKLLl2LCB4V7sg/ru",
      "include_colab_link": true
    },
    "kernelspec": {
      "name": "python3",
      "display_name": "Python 3"
    },
    "language_info": {
      "name": "python"
    }
  },
  "cells": [
    {
      "cell_type": "markdown",
      "metadata": {
        "id": "view-in-github",
        "colab_type": "text"
      },
      "source": [
        "<a href=\"https://colab.research.google.com/github/Bryden254/CIR-203-SEPT-DEC-2025/blob/main/dictionary.ipynb\" target=\"_parent\"><img src=\"https://colab.research.google.com/assets/colab-badge.svg\" alt=\"Open In Colab\"/></a>"
      ]
    },
    {
      "cell_type": "code",
      "metadata": {
        "id": "10ca6d0a",
        "colab": {
          "base_uri": "https://localhost:8080/"
        },
        "outputId": "c666783b-7d59-4778-b58a-25518fa02ad8"
      },
      "source": [
        "# {product: stock_quantity}\n",
        "inventory = {\n",
        "    \"Laptop\": 35,\n",
        "    \"Mouse\": 150,\n",
        "    \"Keyboard\": 75,\n",
        "    \"Monitor\": 50,\n",
        "    \"Webcam\": 90\n",
        "}\n",
        "print(\"Initial inventory:\", inventory)"
      ],
      "execution_count": 1,
      "outputs": [
        {
          "output_type": "stream",
          "name": "stdout",
          "text": [
            "Initial inventory: {'Laptop': 35, 'Mouse': 150, 'Keyboard': 75, 'Monitor': 50, 'Webcam': 90}\n"
          ]
        }
      ]
    },
    {
      "cell_type": "code",
      "source": [
        "# Add a new product\n",
        "inventory[\"USB Hub\"] = 60\n",
        "print(\"\\nAfter adding USB Hub:\", inventory)\n",
        "\n",
        "# Update the quantity of an existing product\n",
        "inventory[\"Laptop\"] += 10 # or inventory[\"Laptop\"] = 45\n",
        "print(\"After updating Laptop stock:\", inventory)"
      ],
      "metadata": {
        "colab": {
          "base_uri": "https://localhost:8080/"
        },
        "id": "PCFlRdsKgD55",
        "outputId": "6b72b0a7-2ee6-4987-8898-90877014a6e9"
      },
      "execution_count": 2,
      "outputs": [
        {
          "output_type": "stream",
          "name": "stdout",
          "text": [
            "\n",
            "After adding USB Hub: {'Laptop': 35, 'Mouse': 150, 'Keyboard': 75, 'Monitor': 50, 'Webcam': 90, 'USB Hub': 60}\n",
            "After updating Laptop stock: {'Laptop': 45, 'Mouse': 150, 'Keyboard': 75, 'Monitor': 50, 'Webcam': 90, 'USB Hub': 60}\n"
          ]
        }
      ]
    },
    {
      "cell_type": "code",
      "source": [
        "inventory[\"Mouse\"] = 8 # Adjusting for the function test\n",
        "\n",
        "def find_low_stock(stock_dict, threshold):\n",
        "    \"\"\"Returns a list of products with stock below a certain threshold.\"\"\"\n",
        "    low_stock_items = []\n",
        "    for product, quantity in stock_dict.items():\n",
        "        if quantity < threshold:\n",
        "            low_stock_items.append(product)\n",
        "    return low_stock_items\n",
        "\n",
        "# Find products with stock less than 10\n",
        "products_to_reorder = find_low_stock(inventory, 10)\n",
        "print(f\"\\nProducts with stock less than 10: {products_to_reorder}\")"
      ],
      "metadata": {
        "colab": {
          "base_uri": "https://localhost:8080/"
        },
        "id": "OC1HF7XDgHdZ",
        "outputId": "3669fc57-20fe-40e2-a617-731c4a803f13"
      },
      "execution_count": 3,
      "outputs": [
        {
          "output_type": "stream",
          "name": "stdout",
          "text": [
            "\n",
            "Products with stock less than 10: ['Mouse']\n"
          ]
        }
      ]
    },
    {
      "cell_type": "code",
      "source": [
        "# Let's say 'Webcam' is discontinued\n",
        "del inventory[\"Webcam\"]\n",
        "print(\"\\nInventory after deleting Webcam:\", inventory)"
      ],
      "metadata": {
        "colab": {
          "base_uri": "https://localhost:8080/"
        },
        "id": "AwyCP-3ugOKZ",
        "outputId": "7a993715-a3bb-4b43-d77a-6be7fc88d151"
      },
      "execution_count": 4,
      "outputs": [
        {
          "output_type": "stream",
          "name": "stdout",
          "text": [
            "\n",
            "Inventory after deleting Webcam: {'Laptop': 45, 'Mouse': 8, 'Keyboard': 75, 'Monitor': 50, 'USB Hub': 60}\n"
          ]
        }
      ]
    },
    {
      "cell_type": "code",
      "source": [
        "print(\"\\nCurrent Product Inventory:\")\n",
        "for product, quantity in inventory.items():\n",
        "    print(f\"- Product: {product}, Quantity: {quantity}\")"
      ],
      "metadata": {
        "colab": {
          "base_uri": "https://localhost:8080/"
        },
        "id": "yNWOBNGcgUL5",
        "outputId": "328d00e9-5140-47e9-e55b-c288300d6952"
      },
      "execution_count": 5,
      "outputs": [
        {
          "output_type": "stream",
          "name": "stdout",
          "text": [
            "\n",
            "Current Product Inventory:\n",
            "- Product: Laptop, Quantity: 45\n",
            "- Product: Mouse, Quantity: 8\n",
            "- Product: Keyboard, Quantity: 75\n",
            "- Product: Monitor, Quantity: 50\n",
            "- Product: USB Hub, Quantity: 60\n"
          ]
        }
      ]
    }
  ]
}