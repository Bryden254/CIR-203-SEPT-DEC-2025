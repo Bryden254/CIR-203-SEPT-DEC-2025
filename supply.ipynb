{
  "nbformat": 4,
  "nbformat_minor": 0,
  "metadata": {
    "colab": {
      "provenance": [],
      "authorship_tag": "ABX9TyMsang7w6/XYIn85SLfmLCJ",
      "include_colab_link": true
    },
    "kernelspec": {
      "name": "python3",
      "display_name": "Python 3"
    },
    "language_info": {
      "name": "python"
    }
  },
  "cells": [
    {
      "cell_type": "markdown",
      "metadata": {
        "id": "view-in-github",
        "colab_type": "text"
      },
      "source": [
        "<a href=\"https://colab.research.google.com/github/Bryden254/CIR-203-SEPT-DEC-2025/blob/main/supply.ipynb\" target=\"_parent\"><img src=\"https://colab.research.google.com/assets/colab-badge.svg\" alt=\"Open In Colab\"/></a>"
      ]
    },
    {
      "cell_type": "code",
      "execution_count": null,
      "metadata": {
        "id": "MZV_lNoddEMc"
      },
      "outputs": [],
      "source": [
        "delivery_routes = [\n",
        "    \"Nairobi to Mombasa\",\n",
        "    \"Eldoret to Nakuru\",\n",
        "    \"Kisumu to Kakamega\",\n",
        "    \"Mombasa to Malindi\",\n",
        "    \"Nairobi to Thika\",\n",
        "    \"Nakuru to Naivasha\",\n",
        "    \"Garissa to Wajir\",\n",
        "    \"Nyeri to Embu\",\n",
        "    \"Kisii to Migori\",\n",
        "    \"Nairobi to Kisumu\"\n",
        "]\n",
        "print(\"Original routes:\", delivery_routes)"
      ]
    },
    {
      "cell_type": "code",
      "source": [
        "# Append a new route\n",
        "delivery_routes.append(\"Isiolo to Marsabit\")\n",
        "print(\"\\nAfter adding a route:\", delivery_routes)\n",
        "\n",
        "# Remove a discontinued route\n",
        "delivery_routes.remove(\"Garissa to Wajir\")\n",
        "print(\"\\nAfter removing a route:\", delivery_routes)"
      ],
      "metadata": {
        "id": "XsXXzdMkeZGR"
      },
      "execution_count": null,
      "outputs": []
    },
    {
      "cell_type": "code",
      "source": [
        "# Sort alphabetically\n",
        "delivery_routes.sort()\n",
        "print(\"\\nSorted alphabetically:\", delivery_routes)\n",
        "\n",
        "# Reverse the sorted list\n",
        "delivery_routes.reverse()\n",
        "print(\"\\nReversed list:\", delivery_routes)"
      ],
      "metadata": {
        "id": "ZiuA9ijPehIK"
      },
      "execution_count": null,
      "outputs": []
    },
    {
      "cell_type": "code",
      "source": [
        "count = 0\n",
        "for route in delivery_routes:\n",
        "    if route.startswith(\"N\"):\n",
        "        count += 1\n",
        "\n",
        "print(f\"\\nNumber of routes starting with 'N': {count}\")"
      ],
      "metadata": {
        "id": "MsHSpP5WeoGZ"
      },
      "execution_count": null,
      "outputs": []
    },
    {
      "cell_type": "code",
      "source": [
        "long_routes = [route for route in delivery_routes if len(route) > 18]\n",
        "\n",
        "print(\"\\nRoutes longer than 18 characters:\", long_routes)"
      ],
      "metadata": {
        "id": "CPIFWPhje8KI"
      },
      "execution_count": null,
      "outputs": []
    }
  ]
}